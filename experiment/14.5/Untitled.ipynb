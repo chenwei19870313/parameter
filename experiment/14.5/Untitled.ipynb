{
 "cells": [
  {
   "cell_type": "code",
   "execution_count": 63,
   "metadata": {},
   "outputs": [],
   "source": [
    "import numpy as np\n",
    "import sys\n",
    "# defaultencoding = 'utf-8'\n",
    "# if sys.getdefaultencoding() != defaultencoding:\n",
    "#     reload(sys)\n",
    "#     sys.setdefaultencoding(defaultencoding)"
   ]
  },
  {
   "cell_type": "code",
   "execution_count": 64,
   "metadata": {},
   "outputs": [
    {
     "data": {
      "text/plain": [
       "'utf-8'"
      ]
     },
     "execution_count": 64,
     "metadata": {},
     "output_type": "execute_result"
    }
   ],
   "source": [
    "sys.getdefaultencoding()"
   ]
  },
  {
   "cell_type": "code",
   "execution_count": 65,
   "metadata": {},
   "outputs": [],
   "source": [
    "dat = np.loadtxt(\"exp_pt_2.dat\",dtype=\"str\")"
   ]
  },
  {
   "cell_type": "code",
   "execution_count": 66,
   "metadata": {},
   "outputs": [],
   "source": [
    "pt_range = (dat[:,0].astype(float) + dat[:,2].astype(float))*0.5\n",
    "pt_range = pt_range.astype(\"str\")"
   ]
  },
  {
   "cell_type": "code",
   "execution_count": 74,
   "metadata": {},
   "outputs": [],
   "source": [
    "a =np.array(zip(pt_range[:],dat[:,4]))\n",
    "with open(\"exp_pt_2212_40_60.dat\",\"w\") as f:\n",
    "    for i in a:\n",
    "        print i\n",
    "        f.write(i)\n",
    "    "
   ]
  },
  {
   "cell_type": "code",
   "execution_count": 53,
   "metadata": {},
   "outputs": [],
   "source": [
    "a =np.array(zip(pt_range[:],dat[:,4]))"
   ]
  },
  {
   "cell_type": "code",
   "execution_count": 27,
   "metadata": {},
   "outputs": [
    {
     "data": {
      "text/plain": [
       "array(['1.33\\xc2\\xb15.0E-04\\xc2\\xb10.14',\n",
       "       '1.056\\xc2\\xb14.5E-04\\xc2\\xb10.092',\n",
       "       '0.833\\xc2\\xb14.0E-04\\xc2\\xb10.081',\n",
       "       '0.629\\xc2\\xb12.5E-04\\xc2\\xb10.059',\n",
       "       '0.469\\xc2\\xb12.1E-04\\xc2\\xb10.046',\n",
       "       '0.340\\xc2\\xb11.8E-04\\xc2\\xb10.032',\n",
       "       '0.245\\xc2\\xb11.5E-04\\xc2\\xb10.023',\n",
       "       '0.174\\xc2\\xb11.3E-04\\xc2\\xb10.017',\n",
       "       '0.123\\xc2\\xb11.1E-04\\xc2\\xb10.012',\n",
       "       '0.0873\\xc2\\xb19.7E-05\\xc2\\xb10.0091',\n",
       "       '0.0617\\xc2\\xb18.4E-05\\xc2\\xb10.0057',\n",
       "       '0.0431\\xc2\\xb17.2E-05\\xc2\\xb10.0048',\n",
       "       '0.0298\\xc2\\xb16.0E-05\\xc2\\xb10.0034',\n",
       "       '0.0209\\xc2\\xb15.0E-05\\xc2\\xb10.0021',\n",
       "       '0.0145\\xc2\\xb14.1E-05\\xc2\\xb10.0014',\n",
       "       '0.00842\\xc2\\xb13.1E-05\\xc2\\xb18.3E-04',\n",
       "       '0.00406\\xc2\\xb12.1E-05\\xc2\\xb14.0E-04',\n",
       "       '0.00188\\xc2\\xb11.4E-05\\xc2\\xb11.7E-04',\n",
       "       '9.40E-04\\xc2\\xb11.0E-05\\xc2\\xb19.3E-05',\n",
       "       '4.49E-04\\xc2\\xb16.6E-06\\xc2\\xb15.6E-05',\n",
       "       '1.42E-04\\xc2\\xb14.1E-06\\xc2\\xb12.0E-05'], dtype='|S26')"
      ]
     },
     "execution_count": 27,
     "metadata": {},
     "output_type": "execute_result"
    }
   ],
   "source": [
    "dat[:,4]"
   ]
  },
  {
   "cell_type": "code",
   "execution_count": null,
   "metadata": {},
   "outputs": [],
   "source": []
  },
  {
   "cell_type": "code",
   "execution_count": null,
   "metadata": {},
   "outputs": [],
   "source": []
  }
 ],
 "metadata": {
  "kernelspec": {
   "display_name": "Python 2",
   "language": "python",
   "name": "python2"
  },
  "language_info": {
   "codemirror_mode": {
    "name": "ipython",
    "version": 2
   },
   "file_extension": ".py",
   "mimetype": "text/x-python",
   "name": "python",
   "nbconvert_exporter": "python",
   "pygments_lexer": "ipython2",
   "version": "2.7.16"
  }
 },
 "nbformat": 4,
 "nbformat_minor": 2
}
